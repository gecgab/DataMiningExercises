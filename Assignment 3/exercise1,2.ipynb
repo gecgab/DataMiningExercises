{
 "cells": [
  {
   "cell_type": "markdown",
   "metadata": {},
   "source": [
    "# Assignment 3\n",
    "## Exercise 1: Map Scatter Plots to Correlation Coefficients\n",
    "| Dataset                      \t| Correlation coefficient $r_{XY}$ \t|\n",
    "|------------------------------\t|-----------\t|\n",
    "| $X_3$                        \t| -0.918685 \t|\n",
    "| $X_1$                        \t| -0.529351 \t|\n",
    "| $X_4$                       \t| 0.72369   \t|\n",
    "| $X_2$                       \t| 0.0659047 \t|"
   ]
  },
  {
   "cell_type": "markdown",
   "metadata": {},
   "source": [
    "## Exercise 2: Hierarchical Clustering\n",
    "### 1.\n",
    "*calculations below*\n",
    "a) step one\n",
    "\n",
    "|       | $p_1$ | $p_2$ | $p_3$ | $p_4$ | $p_5$ |\n",
    "|-------|-------|-------|-------|-------|-------|\n",
    "| $p_1$ | 0     | 2.24  | 4.03  | 5.10  | 3.61  |\n",
    "| $p_2$ |       | 0     | 3.35  | 4.12  | 2.0   |\n",
    "| $p_3$ |       |       | 0     | <font color=red>1.12</font>  | 1.8   |\n",
    "| $p_4$ |       |       |       | 0     | 2.24  |\n",
    "| $p_5$ |       |       |       |       | 0     |\n",
    "\n",
    "b) step 2\n",
    "\n",
    "|          | $p_1$ | $p_2$ | $\\{p_3,p_4\\}$\t | $p_5$ |\n",
    "|----------|-------|-------|----------|-------|\n",
    "| $p_1$    | 0     | 2.24  | 4.03     | 3.61  |\n",
    "| $p_2$    |       | 0     | 3.35     | 2.0 |\n",
    "| $\\{p_3,p_4\\}$ |       |       | 0        | <font color=red>1.8</font>   |\n",
    "| $p_5$    |       |       |          | 0     |\n",
    "\n",
    "c) step 3\n",
    "\n",
    "|                   | $p_1$ | $p_2$ | $\\{p_3,p_4,p_5\\}$ |\n",
    "|-------------------|-------|:-----------------:|-------|\n",
    "| $p_1$             | 0     | 2.24              | 3.61  |\n",
    "| $p_2$             |       |  0                 |   <font color=red>2.0</font>   |\n",
    "| $\\{p_3,p_4,p_5\\}$ |       |                | 0  |\n",
    "\n",
    "step 4\n",
    "\n",
    "|                       \t| $p_1$ \t| $\\{p_2,p_3,p_4,p_5\\}$ \t|\n",
    "|-----------------------\t|-------\t|-----------------------\t|\n",
    "| $p_1$                 \t| 0     \t| 2.24                  \t|\n",
    "| $\\{p_2,p_3,p_4,p_5\\}$ \t|       \t| 0                     \t|\n",
    "\n",
    "step 5: $ C = \\{p_1,p_2,p_3,p_4,p_5\\}$ with $d(C) = 2.24$"
   ]
  },
  {
   "cell_type": "code",
   "execution_count": 1,
   "metadata": {},
   "outputs": [
    {
     "name": "stdout",
     "output_type": "stream",
     "text": [
      "step 1\n",
      "5.0990195135927845\n",
      "2.0\n",
      "0.0\n",
      "\n",
      "step 2\n",
      "4.031128874149275\n",
      "5.0990195135927845\n",
      "\n",
      "3.3541019662496847\n",
      "4.123105625617661\n",
      "\n",
      "2.0\n",
      "\n",
      "1.8027756377319946\n",
      "2.23606797749979\n",
      "\n",
      "etc...\n"
     ]
    }
   ],
   "source": [
    "import numpy as np\n",
    "\n",
    "p1 = (1,1)\n",
    "p2 = (3,2)\n",
    "p3 = (1.5,5)\n",
    "p4 = (2,6)\n",
    "p5 = (3,4)\n",
    "\n",
    "def dist(a,b): # calculates euclidian distance of tuples a and b\n",
    "    return np.sqrt((a[0]-b[0])**2 + (a[1]-b[1])**2)\n",
    "\n",
    "print(\"step 1\")\n",
    "print(dist(p1,p4))\n",
    "print(dist(p2,p5))\n",
    "print(dist(p4,p4))\n",
    "\n",
    "print(\"\\nstep 2\")\n",
    "print(dist(p1,p3))\n",
    "print(dist(p1,p4))\n",
    "print(\"\")\n",
    "print(dist(p2,p3))\n",
    "print(dist(p2,p4))\n",
    "print(\"\")\n",
    "print(dist(p2,p5))\n",
    "print(\"\")\n",
    "print(dist(p3,p5))\n",
    "print(dist(p4,p5))\n",
    "\n",
    "print(\"\\netc...\")"
   ]
  }
 ],
 "metadata": {
  "kernelspec": {
   "display_name": "Python 3",
   "language": "python",
   "name": "python3"
  },
  "language_info": {
   "codemirror_mode": {
    "name": "ipython",
    "version": 3
   },
   "file_extension": ".py",
   "mimetype": "text/x-python",
   "name": "python",
   "nbconvert_exporter": "python",
   "pygments_lexer": "ipython3",
   "version": "3.7.7"
  }
 },
 "nbformat": 4,
 "nbformat_minor": 4
}
