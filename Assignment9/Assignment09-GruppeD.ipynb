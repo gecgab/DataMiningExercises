{
 "cells": [
  {
   "cell_type": "markdown",
   "metadata": {},
   "source": [
    "# Assignment 9\n",
    "Gruppe D\n",
    "\n",
    "## Exercise 1\n",
    "\n",
    "### 1.1\n",
    "support(A) = 1\n",
    "\n",
    "support(B) = 0.5\n",
    "\n",
    "support(A ∪ B) = 0.5\n",
    "\n",
    "### 1.2\n",
    "No benefit with this calculation. The intersection is the same as the assumption that A and B must be true. \n",
    "\n",
    "### 1.3\n",
    "|Diagram | conf(A -> B) | conf (B -> A) |\n",
    "|--------|--------------|---------------|\n",
    "| 3 | 0.5 | 0.5 |\n",
    "| 4 | 0.9 | 0.9 |\n",
    "| 2 | 0.0625 | 0.1666667 |\n",
    "| 1 | 0.8333333 | 0.4166667 |\n",
    "\n",
    "### 1.4\n",
    "support(A) > support(B)"
   ]
  },
  {
   "cell_type": "code",
   "execution_count": null,
   "metadata": {},
   "outputs": [],
   "source": []
  }
 ],
 "metadata": {
  "kernelspec": {
   "display_name": "Python 3",
   "language": "python",
   "name": "python3"
  },
  "language_info": {
   "codemirror_mode": {
    "name": "ipython",
    "version": 3
   },
   "file_extension": ".py",
   "mimetype": "text/x-python",
   "name": "python",
   "nbconvert_exporter": "python",
   "pygments_lexer": "ipython3",
   "version": "3.7.6"
  }
 },
 "nbformat": 4,
 "nbformat_minor": 4
}
