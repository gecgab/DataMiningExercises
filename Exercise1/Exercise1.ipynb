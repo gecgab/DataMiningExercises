{
 "cells": [
  {
   "cell_type": "markdown",
   "metadata": {},
   "source": [
    "# Exercise 1\n",
    "- Dataset: $𝑋 = \\{5, 4, 10, 1, 5, 25\\} = \\{1, 4, 5, 5, 10, 25\\}$"
   ]
  },
  {
   "cell_type": "markdown",
   "metadata": {},
   "source": [
    "## 1. a) and b)"
   ]
  },
  {
   "cell_type": "markdown",
   "metadata": {},
   "source": [
    "| Measure                      \t| Required scaling \t| Value of measure for 𝑋 \t|\n",
    "|------------------------------\t|------------------\t|------------------------\t|\n",
    "| Mode                         \t| Nominal          \t| 5                      \t|\n",
    "| Arithmetic mean $\\bar{x}$    \t| Interval         \t| 8.33                   \t|\n",
    "| Quantile $\\tilde{x}_{0.25}$ \t| Ordial           \t| 4                     \t|\n",
    "| Median $\\tilde{x}_{0.5}$    \t| Ordial           \t| 5                      \t|\n",
    "| Range 𝑅                      \t| Ordial         \t| 24                     \t|\n",
    "| Interquartile range 𝑄        \t| Ordial           \t| 6                     \t|\n",
    "| Variance $s^2$                  \t| Interval         \t| 7.91                  \t|\n",
    "| Skewness 𝑔                   \t| Interval         \t| 1.38                   \t|\n",
    "| Quartile skewness $𝑔_𝑄$         \t| Ordial           \t| 0.67                   \t|"
   ]
  },
  {
   "cell_type": "code",
   "execution_count": 3,
   "metadata": {},
   "outputs": [
    {
     "name": "stdout",
     "output_type": "stream",
     "text": [
      "Arithmetic mean: 8.333333333333334\n",
      "1st quartile: 4\n",
      "Median: 5.0\n",
      "Range: 24\n",
      "Interquartile range: 6\n",
      "Variance: 7.909207011803114\n",
      "Skewness: 1.375887467325901\n",
      "Quartile skewness: 0.6666666666666666\n"
     ]
    }
   ],
   "source": [
    "import numpy as np\n",
    "#from scipy.stats import skew\n",
    "\n",
    "X = np.array([5, 4, 10, 1, 5, 25])\n",
    "n = len(X)\n",
    "x_bar =  sum(X) / n\n",
    "s = np.sqrt(sum(1/n*(X-x_bar)**2))\n",
    "g = sum(1/n * ((X-x_bar)/s)**3)\n",
    "\n",
    "x25 = 4\n",
    "x5 = np.median(X)\n",
    "x75 = 10\n",
    "\n",
    "X = np.array([5, 4, 10, 1, 5, 25])\n",
    "print('Arithmetic mean:', x_bar)\n",
    "print('1st quartile:', x25)\n",
    "#print('1st quartile:', np.quantile(X, .25))\n",
    "print('Median:', x5)\n",
    "print('Range:', max(X) - min(X))\n",
    "print('Interquartile range:', x75 - x25) # 10 - 4 = 6\n",
    "#print('Interquartile range:', np.quantile(X, .75) - np.quantile(X, .25)) # 10 - 4 = 6\n",
    "print('Variance:', s)\n",
    "print('Skewness:', g)\n",
    "#print('Skewness:', skew(X))\n",
    "print('Quartile skewness:', (x75 - 2 * x5 + x25)/(x75 - x25)) # (10-5 - 5-4)/10-4 = 2/3\n",
    "#print('Quartile skewness:', (np.quantile(X, .75) - 2 * np.quantile(X, .5) + np.quantile(X, .25)/(np.quantile(X, .75) - np.quantile(X, .25)))) # (10-5 - 5-4)/10-4 = 2/3"
   ]
  },
  {
   "cell_type": "markdown",
   "metadata": {},
   "source": [
    "## 2.\n",
    "### a) labelling box-and-whiskers plot\n",
    "1. $\\tilde{x}_{0.75}$, 3rd quartile\n",
    "2. $\\tilde{x}_{0.5}$, median (2nd quartile)\n",
    "3. $\\tilde{x}_{0.25}$, 1st quartile\n",
    "6. $Q$, Interquartile range\n",
    "\n",
    "### b)\n",
    "i) min ($\\{𝑥 | 𝑥 ∈ 𝑋 ∧ 𝑥 ≥ \\tilde{x}_{0.25} − 1.5 ⋅ 𝑄\\}$) = **1**, since $\\tilde{x}_{0.25} − 1.5 ⋅ 𝑄 = 4-1.5 ⋅ 6 = -5$\n",
    "\n",
    "ii) max ($\\{𝑥 | 𝑥 ∈ 𝑋 ∧ 𝑥 ≤ \\tilde{x}_{0.75} + 1.5 ⋅ 𝑄\\}$) = **10**, since $\\tilde{x}_{0.75} + 1.5 ⋅ 𝑄 = 10+1.5 ⋅ 6 = 19 < 25$\n",
    "\n",
    "### c)\n",
    "no, because g takes outliers into account.\n",
    "<!-- yes, it can be inferred by looking at the mean $\\bar{x}$ (green bar) in relation to the sides of the boxes; if $\\bar{x}$ is on the lower side g is positive, otherwise negative. -->\n",
    "\n",
    "## 3.\n",
    "a) [a,b] = [$\\tilde{x}_{0.25}$,$\\tilde{x}_{0.75}$]\n",
    "\n",
    "b)\n",
    "- $g<0$: left\n",
    "- $g=0$: not skewed\n",
    "- $g>0$: right\n",
    "\n",
    "c)\n",
    "- $g_Q = a \\Leftrightarrow \\tilde{x}_{0.5} = \\tilde{x}_{0.25}$\n",
    "- $g_Q = b \\Leftrightarrow \\tilde{x}_{0.5} = \\tilde{x}_{0.75}$\n",
    "\n",
    "## 4.\n",
    "### Mean\n",
    "- not conclusive without knowing the standard deviation\n",
    "\n",
    "### Median\n",
    "- when looking at the median, one should compare it with the mean - if they are very different it shows there is high skewness in the data\n",
    "\n",
    "### Mode\n",
    "- useful for nominal (and maybe ordial) scale, otherwise hardly. Mean would be more conclusive\n",
    "\n",
    "### Range\n",
    "- again, mean and standard deviation are more conclusive. Skewness would provide some insight in the depicted situation\n",
    "\n",
    "### Correlation coefficient\n",
    "- one needs to remove the outliers from the dataset before performing correlation analysis\n",
    "\n",
    "### Variance\n",
    "- median or skewness would prove insightful\n",
    "\n",
    "### Lesson learned:\n",
    "**Do not perform statistical analysis using just one function, rather perform different calculation to see which one best describes the features of the data set.\n"
   ]
  }
 ],
 "metadata": {
  "kernelspec": {
   "display_name": "Python 3",
   "language": "python",
   "name": "python3"
  },
  "language_info": {
   "codemirror_mode": {
    "name": "ipython",
    "version": 3
   },
   "file_extension": ".py",
   "mimetype": "text/x-python",
   "name": "python",
   "nbconvert_exporter": "python",
   "pygments_lexer": "ipython3",
   "version": "3.7.7"
  }
 },
 "nbformat": 4,
 "nbformat_minor": 4
}
