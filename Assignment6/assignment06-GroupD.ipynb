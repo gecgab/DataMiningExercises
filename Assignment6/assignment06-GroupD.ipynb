{
 "cells": [
  {
   "cell_type": "markdown",
   "metadata": {},
   "source": [
    "# Assignment 6\n",
    "Group D\n",
    "## Exercise 1: Fuzzy Clustering\n",
    "1. \n",
    "- calculate distances from points to clusters:\n",
    "|       | $p_1$      | $p_2$ | $p_3$      | $p_4$      |\n",
    "|-------|------------|-------|------------|------------|\n",
    "| $c_1$ | $\\sqrt{2}$ | 1     | 1          | $\\sqrt{2}$ |\n",
    "| $c_2$ | $\\sqrt{5}$ | 2     | $\\sqrt{2}$ | 1          |\n",
    "\n",
    "- applying equation $(2)$ for $f_{2,1}$ and $f_{4,1}$ ($f_{2,2} = 1 - f_{2,1}$):\n",
    "    - $f_{2,1} = 1/(1+1/4) = 4/5$\n",
    "    - $f_{4,1} = 1/(1+2) = 1/3$\n",
    "    - thus we get $f = \\begin{pmatrix} 5/7 & 2/7 \\\\ 4/5 & 1/5 \\\\ 2/3 & 1/3 \\\\ 1/3 & 2/3 \\end{pmatrix}$"
   ]
  }
 ],
 "metadata": {
  "kernelspec": {
   "display_name": "Python 3",
   "language": "python",
   "name": "python3"
  },
  "language_info": {
   "codemirror_mode": {
    "name": "ipython",
    "version": 3
   },
   "file_extension": ".py",
   "mimetype": "text/x-python",
   "name": "python",
   "nbconvert_exporter": "python",
   "pygments_lexer": "ipython3",
   "version": "3.7.7"
  }
 },
 "nbformat": 4,
 "nbformat_minor": 4
}
