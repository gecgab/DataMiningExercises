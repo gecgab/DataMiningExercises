{
 "cells": [
  {
   "cell_type": "markdown",
   "metadata": {},
   "source": [
    "# Assignment 6\n",
    "Group D\n",
    "## Exercise 1: Fuzzy Clustering\n",
    "1. \n",
    "- calculate distances from points to clusters:\n",
    "|       | $p_1$      | $p_2$ | $p_3$      | $p_4$      |\n",
    "|-------|------------|-------|------------|------------|\n",
    "| $c_1$ | $\\sqrt{2}$ | 1     | 1          | $\\sqrt{2}$ |\n",
    "| $c_2$ | $\\sqrt{5}$ | 2     | $\\sqrt{2}$ | 1          |\n",
    "\n",
    "- applying equation $(2)$ for $f_{2,1}$ and $f_{4,1}$ ($f_{2,2} = 1 - f_{2,1}$):\n",
    "    - $f_{2,1} = 1/(1+1/4) = 4/5$\n",
    "    - $f_{4,1} = 1/(1+2) = 1/3$\n",
    "    - thus we get $F = \\begin{pmatrix} 5/7 & 2/7 \\\\ 4/5 & 1/5 \\\\ 2/3 & 1/3 \\\\ 1/3 & 2/3 \\end{pmatrix}$"
   ]
  },
  {
   "cell_type": "markdown",
   "metadata": {},
   "source": [
    "2. recalculate cluster centers"
   ]
  },
  {
   "cell_type": "code",
   "execution_count": 26,
   "metadata": {},
   "outputs": [
    {
     "name": "stdout",
     "output_type": "stream",
     "text": [
      "[1.64149739 0.78166543]\n",
      "[3.24872756 2.46115725]\n"
     ]
    }
   ],
   "source": [
    "import numpy as np\n",
    "\n",
    "def sumPoints(Fj,p,b):\n",
    "    s = (0,0)\n",
    "    for mu in range(len(Fj)):\n",
    "        s += Fj[mu]**b * p[mu]\n",
    "    return s\n",
    "\n",
    "F = np.array([[5/7, 2/7],[4/5, 1/5],[2/3, 1/3],[1/3, 2/3]])\n",
    "b = 2\n",
    "p = np.array([(0,0),(1,0),(2,1),(2,2)])\n",
    "\n",
    "c_1 = 1 / sum(F[:,0]**2) * sumPoints(F[:,0],p,b)\n",
    "c_2 = 1 / sum(F[:,1]**2) * sumPoints(F[:,1],p,b)\n",
    "print(c_1)\n",
    "print(c_2)"
   ]
  },
  {
   "cell_type": "markdown",
   "metadata": {},
   "source": [
    "![cluster centers after 1 iteration](c(1).JPG)"
   ]
  },
  {
   "cell_type": "markdown",
   "metadata": {},
   "source": [
    "3. The fuzzy result differs just slightly from the expected crisp clustering result of $c_1(100)=\\begin{pmatrix} 0.5 \\\\ 0\\end{pmatrix}$ and $c_2(100)=\\begin{pmatrix} 2 \\\\ 1.5 \\end{pmatrix}$"
   ]
  },
  {
   "cell_type": "markdown",
   "metadata": {},
   "source": [
    "4. a)\n",
    "- i. A higher value for $b$ makes the clusters move towards the origin (0,0). Thus they come closer together and the clustering becomes more ambiguous. The algorithm still works, but it is not very useful anymore.\n",
    "- ii. The overlap increases.\n",
    "\n",
    "b)\n",
    "\n",
    "c)\n",
    "\n",
    "d)"
   ]
  },
  {
   "cell_type": "markdown",
   "metadata": {},
   "source": [
    "## Exercise 2: Crisp vs. Fuzzy $k$-means\n",
    "1. Crisp has better computational performance as only one membership has to be tracked for each data point. \\[todo: source\\]\n",
    "2. The crisp algorithm shows a stronger reaction to increasing noise: the cluster center moves faster towards the noise source. At a noise level of 85 the clusters suddenly rearrange: the cluster centers jump to entirely different locations, leaving one noise cluster and one cluster that is comprised of roughly the original clusters. The clusters of the fuzzy algorithm does not jump."
   ]
  },
  {
   "cell_type": "code",
   "execution_count": 67,
   "metadata": {},
   "outputs": [
    {
     "data": {
      "image/png": "[encoded data removed]",
      "text/plain": [
       "<Figure size 432x288 with 1 Axes>"
      ]
     },
     "metadata": {
      "needs_background": "light"
     },
     "output_type": "display_data"
    }
   ],
   "source": [
    "# 3\n",
    "from sklearn.datasets import load_sample_image\n",
    "from skimage.transform import rescale\n",
    "from skimage.util import random_noise\n",
    "from skfuzzy import cmeans\n",
    "import matplotlib.pyplot as plt\n",
    "import numpy as np\n",
    "\n",
    "\n",
    "def cluster_image(image,n_clusters,fuzzifier):\n",
    "    n_pixels = image.shape[0]*image.shape[1]\n",
    "    pixel_list = np.reshape(image, (n_pixels,3))\n",
    "    \n",
    "    # applying fuzzy k-means algorithm\n",
    "    cntr, u, u0, d, jm, p, fpc =  cmeans(pixel_list.T,c=n_clusters,m=fuzzifier,error=1e-4,maxiter=2000,seed=1)\n",
    "    # find nearest centroids and replace\n",
    "    cluster_membership = np.argmax(u, axis=0)\n",
    "    k = 0\n",
    "    for i in range(image.shape[0]):\n",
    "        for j in range(image.shape[1]):\n",
    "            image[i,j,:] = cntr[cluster_membership[k]]\n",
    "            k += 1\n",
    "    return image \n",
    "    \n",
    "n_clusters = 3\n",
    "fuzzifier = 4\n",
    "noise_ratios = [0, 0.02, 0.05]\n",
    "\n",
    "image = load_sample_image(\"flower.jpg\")\n",
    "image = rescale(image, (0.25,0.25,1)) # automatically transforms image to range [0;1]\n",
    "# create img versions with noise\n",
    "images_noise = []\n",
    "for noise_ratio in noise_ratios:\n",
    "    images_noise.append(random_noise(image,mode='s&p',seed=1,amount=noise_ratio))\n",
    "    clustered_image = cluster_image(image,n_clusters,fuzzifier)\n",
    "    plt.imshow(clustered_image)\n"
   ]
  },
  {
   "cell_type": "code",
   "execution_count": null,
   "metadata": {},
   "outputs": [],
   "source": []
  }
 ],
 "metadata": {
  "kernelspec": {
   "display_name": "Python 3",
   "language": "python",
   "name": "python3"
  },
  "language_info": {
   "codemirror_mode": {
    "name": "ipython",
    "version": 3
   },
   "file_extension": ".py",
   "mimetype": "text/x-python",
   "name": "python",
   "nbconvert_exporter": "python",
   "pygments_lexer": "ipython3",
   "version": "3.7.7"
  }
 },
 "nbformat": 4,
 "nbformat_minor": 4
}
