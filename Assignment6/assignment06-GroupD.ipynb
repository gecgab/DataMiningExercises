{
 "cells": [
  {
   "cell_type": "markdown",
   "metadata": {},
   "source": [
    "# Assignment 6\n",
    "Group D\n",
    "## Exercise 1: Fuzzy Clustering\n",
    "### 1. calculate distances from points to clusters:\n",
    "|       | $p_1$      | $p_2$ | $p_3$      | $p_4$      |\n",
    "|-------|------------|-------|------------|------------|\n",
    "| $c_1$ | $\\sqrt{2}$ | 1     | 1          | $\\sqrt{2}$ |\n",
    "| $c_2$ | $\\sqrt{5}$ | 2     | $\\sqrt{2}$ | 1          |\n",
    "\n",
    "- applying equation $(2)$ for $f_{2,1}$ and $f_{4,1}$ ($f_{2,2} = 1 - f_{2,1}$):\n",
    "    - $f_{2,1} = 1/(1+1/4) = 4/5$\n",
    "    - $f_{4,1} = 1/(1+2) = 1/3$\n",
    "    - thus we get $F = \\begin{pmatrix} 5/7 & 2/7 \\\\ 4/5 & 1/5 \\\\ 2/3 & 1/3 \\\\ 1/3 & 2/3 \\end{pmatrix}$"
   ]
  },
  {
   "cell_type": "markdown",
   "metadata": {},
   "source": [
    "### 2. recalculate cluster centers"
   ]
  },
  {
   "cell_type": "code",
   "execution_count": 26,
   "metadata": {},
   "outputs": [
    {
     "name": "stdout",
     "output_type": "stream",
     "text": [
      "[1.64149739 0.78166543]\n",
      "[3.24872756 2.46115725]\n"
     ]
    }
   ],
   "source": [
    "import numpy as np\n",
    "\n",
    "def sumPoints(Fj,p,b):\n",
    "    s = (0,0)\n",
    "    for mu in range(len(Fj)):\n",
    "        s += Fj[mu]**b * p[mu]\n",
    "    return s\n",
    "\n",
    "F = np.array([[5/7, 2/7],[4/5, 1/5],[2/3, 1/3],[1/3, 2/3]])\n",
    "b = 2\n",
    "p = np.array([(0,0),(1,0),(2,1),(2,2)])\n",
    "\n",
    "c_1 = 1 / sum(F[:,0]**2) * sumPoints(F[:,0],p,b)\n",
    "c_2 = 1 / sum(F[:,1]**2) * sumPoints(F[:,1],p,b)\n",
    "print(c_1)\n",
    "print(c_2)"
   ]
  },
  {
   "cell_type": "markdown",
   "metadata": {},
   "source": [
    "![cluster centers after 1 iteration](c(1).JPG)"
   ]
  },
  {
   "cell_type": "markdown",
   "metadata": {},
   "source": [
    "### 3. result after 100 iterations\n",
    "The fuzzy result differs just slightly from the expected crisp clustering result of $c_1(100)=\\begin{pmatrix} 0.5 \\\\ 0\\end{pmatrix}$ and $c_2(100)=\\begin{pmatrix} 2 \\\\ 1.5 \\end{pmatrix}$"
   ]
  },
  {
   "cell_type": "markdown",
   "metadata": {},
   "source": [
    "### 4. a)\n",
    "- i. A higher value for $b$ makes the clusters move towards the origin (0,0). Thus they come closer together and the clustering becomes more ambiguous. The algorithm still works, but it is not very useful anymore.\n",
    "- ii. The overlap increases.\n",
    "\n",
    "### 4. b)\n",
    "$ \\lim_{b \\to 1+} f_{1,1} ^b = \\frac{1}{1+ \\bigl( \\frac{|| P_1 - C_1 ||^2}{|| P_1 - C_2 ||^2} \\bigl) ^\\frac{1}{b-1}} = \\frac{1}{1+\\bigl( \\frac{\\sqrt{2}}{\\sqrt{5}} \\bigl) ^\\frac{1}{b-1}} = 0$\n",
    "\n",
    "$ \\lim_{b \\to 1+} f_{1,2} ^b = \\frac{1}{1+ \\bigl( \\frac{|| P_1 - C_2 ||^2}{|| P_1 - C_1 ||^2} \\bigl) ^\\frac{1}{b-1}} = \\frac{1}{1+\\bigl( \\frac{\\sqrt{5}}{\\sqrt{2}} \\bigl) ^\\frac{1}{b-1}} = 1$\n",
    "\n",
    "### 4. c)\n",
    "$ \\lim_{b \\to \\infty} \\tilde{f_{1,1}} = 1 - \\frac{|| P_1 - C_1 ||^2}{|| P_1 - C_1 ||^2 + || P_1 - C_2 ||^2} = 1 - \\frac{\\sqrt{2}}{\\sqrt{2} + \\sqrt{5}} = \\frac{5-\\sqrt{10}}{3} \\approx 0,613 $\n",
    "\n",
    "$ \\lim_{b \\to \\infty} \\tilde{f_{1,2}} = 1 - \\frac{|| P_1 - C_2 ||^2}{|| P_1 - C_1 ||^2 + || P_1 - C_2 ||^2} = 1 - \\frac{\\sqrt{5}}{\\sqrt{2} + \\sqrt{5}} = \\frac{-2+\\sqrt{10}}{3} \\approx 0,387 $\n",
    "\n",
    "### 4. d)\n",
    "The result would be the same except the thickness of the lines. They would be thinner."
   ]
  },
  {
   "cell_type": "markdown",
   "metadata": {},
   "source": [
    "## Exercise 2: Crisp vs. Fuzzy $k$-means\n",
    "- see CrispVsFuzzy.ipynb"
   ]
  }
 ],
 "metadata": {
  "kernelspec": {
   "display_name": "Python 3",
   "language": "python",
   "name": "python3"
  },
  "language_info": {
   "codemirror_mode": {
    "name": "ipython",
    "version": 3
   },
   "file_extension": ".py",
   "mimetype": "text/x-python",
   "name": "python",
   "nbconvert_exporter": "python",
   "pygments_lexer": "ipython3",
   "version": "3.7.7"
  }
 },
 "nbformat": 4,
 "nbformat_minor": 4
}
